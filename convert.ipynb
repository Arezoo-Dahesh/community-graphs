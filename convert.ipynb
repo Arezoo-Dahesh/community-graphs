{
 "cells": [
  {
   "cell_type": "code",
   "execution_count": 2,
   "metadata": {},
   "outputs": [],
   "source": [
    "import networkx as nx\n",
    "import numpy as np\n",
    "import pandas as pd"
   ]
  },
  {
   "cell_type": "markdown",
   "metadata": {
    "pycharm": {
     "name": "#%% md\n"
    }
   },
   "source": [
    "# Convert all datasets to GML"
   ]
  },
  {
   "cell_type": "code",
   "execution_count": 9,
   "metadata": {},
   "outputs": [],
   "source": [
    "# variant 1: for .edges and .clusters\n",
    "graph_name = 'karate'\n",
    "\n",
    "G = nx.read_edgelist(f'./raw_graphs/{graph_name}/{graph_name}.edges')\n",
    "\n",
    "clusters = {}\n",
    "with open(f'./raw_graphs/{graph_name}/{graph_name}.clusters') as f:\n",
    "    for line in f:\n",
    "        name, cluster = line[:-1].split('\\t')\n",
    "        clusters[name] = cluster\n",
    "\n",
    "nx.set_node_attributes(G, clusters, name='gt')\n",
    "nx.write_gml(G, f'./gml_graphs/{graph_name}.gml')"
   ]
  },
  {
   "cell_type": "code",
   "execution_count": 7,
   "metadata": {},
   "outputs": [],
   "source": [
    "# variant 2: for .edges and .nodes\n",
    "graph_name = 'wisconsin'\n",
    "\n",
    "df = pd.read_table(f'./raw_graphs/webkb/{graph_name}/webkb-{graph_name}.edges', header=2, names=['id', 'source', '|', 'target'])\n",
    "edges = df[['source', 'target']]\n",
    "G = nx.convert_matrix.from_pandas_edgelist(edges)\n",
    "\n",
    "df = pd.read_table(f'./raw_graphs/webkb/{graph_name}/webkb-{graph_name}.nodes', header=1)\n",
    "clusters = df[['cat=course,faculty,project,staff,student:label']]\n",
    "clusters = dict(clusters.reset_index().to_numpy().tolist())\n",
    "\n",
    "\n",
    "nx.set_node_attributes(G, clusters, name='gt')\n",
    "nx.write_gml(G, f'./gml_graphs/{graph_name}.gml')"
   ]
  },
  {
   "cell_type": "code",
   "execution_count": 42,
   "metadata": {},
   "outputs": [],
   "source": [
    "# variant 3: for newsgroups\n",
    "graph_name = 'news_5cl_3'\n",
    "\n",
    "A = []\n",
    "with open(f'./raw_graphs/newsgroup/{graph_name}_Docr.csv') as f:\n",
    "    for line in f:\n",
    "        A.append(line[:-1].split(','))\n",
    "G = nx.from_numpy_matrix(np.array(A, dtype=np.float32))\n",
    "\n",
    "clusters = []\n",
    "with open(f'./raw_graphs/newsgroup/{graph_name}_classeo.csv') as f:\n",
    "    for line in f:\n",
    "        clusters.append(line[:-1])\n",
    "clusters = dict(enumerate(clusters))\n",
    "nx.set_node_attributes(G, clusters, name='gt')\n",
    "nx.write_gml(G, f'./gml_graphs/{graph_name}.gml')"
   ]
  },
  {
   "cell_type": "code",
   "execution_count": 10,
   "metadata": {},
   "outputs": [],
   "source": []
  }
 ],
 "metadata": {
  "kernelspec": {
   "display_name": "Python 3",
   "language": "python",
   "name": "python3"
  },
  "language_info": {
   "codemirror_mode": {
    "name": "ipython",
    "version": 3
   },
   "file_extension": ".py",
   "mimetype": "text/x-python",
   "name": "python",
   "nbconvert_exporter": "python",
   "pygments_lexer": "ipython3",
   "version": "3.7.7"
  }
 },
 "nbformat": 4,
 "nbformat_minor": 4
}